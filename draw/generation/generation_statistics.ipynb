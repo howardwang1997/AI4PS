{
 "cells": [
  {
   "cell_type": "code",
   "execution_count": 12,
   "metadata": {},
   "outputs": [],
   "source": [
    "import json\n",
    "from rdkit import Chem\n",
    "from rdkit.Chem import Draw\n",
    "bayesian = '/mnt/bn/ai4s-hl/bamboo/hongyi/debug/moler/data/bayesian_generated_02.json'\n",
    "generation = '/mlx_devbox/users/howard.wang/playground/molllm/datasets/decoded_07.json'"
   ]
  },
  {
   "cell_type": "code",
   "execution_count": 10,
   "metadata": {},
   "outputs": [],
   "source": [
    "with open(bayesian) as f:\n",
    "    mol_b = json.load(f)\n",
    "\n",
    "with open(generation) as f:\n",
    "    mol_g = json.load(f)\n",
    "\n",
    "mol_b = [d['decoded_molecule'] for d in mol_b]\n",
    "mol_all = mol_g + mol_b"
   ]
  },
  {
   "cell_type": "code",
   "execution_count": 11,
   "metadata": {},
   "outputs": [
    {
     "data": {
      "text/plain": [
       "(960, 24112, 24889)"
      ]
     },
     "execution_count": 11,
     "metadata": {},
     "output_type": "execute_result"
    }
   ],
   "source": [
    "len(set(mol_b)), len(set(mol_g)), len(set(mol_all))"
   ]
  },
  {
   "cell_type": "code",
   "execution_count": null,
   "metadata": {},
   "outputs": [],
   "source": [
    "# get molecule size, ring, aromatic_ring (histogram)\n",
    "rdmols_g = [Chem.MolFromSmiles(s) for s in mol_g]\n",
    "rdmols_b = [Chem.MolFromSmiles(s) for s in mol_b]\n",
    "size_g = []"
   ]
  },
  {
   "cell_type": "code",
   "execution_count": null,
   "metadata": {},
   "outputs": [],
   "source": [
    "# get predicted labels\n"
   ]
  }
 ],
 "metadata": {
  "fileId": "76b62560-8dac-45d4-97f8-a199f6fc97e5",
  "kernelspec": {
   "display_name": "mol",
   "language": "python",
   "name": "python3"
  },
  "language_info": {
   "codemirror_mode": {
    "name": "ipython",
    "version": 3
   },
   "file_extension": ".py",
   "mimetype": "text/x-python",
   "name": "python",
   "nbconvert_exporter": "python",
   "pygments_lexer": "ipython3",
   "version": "3.10.0"
  }
 },
 "nbformat": 4,
 "nbformat_minor": 2
}
