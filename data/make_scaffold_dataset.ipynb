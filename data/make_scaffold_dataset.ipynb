{
 "cells": [
  {
   "cell_type": "code",
   "execution_count": null,
   "metadata": {},
   "outputs": [],
   "source": []
  }
 ],
 "metadata": {
  "fileId": "7a81e47b-1de6-49ee-9665-43ffa49c6e8e",
  "filePath": "/mlx_devbox/users/howard.wang/playground/molllm/AI4PS/data/make_scaffold_dataset.ipynb",
  "kernelspec": {
   "display_name": "matenv",
   "language": "python",
   "name": "python3"
  },
  "language_info": {
   "name": "python",
   "version": "3.11.4"
  }
 },
 "nbformat": 4,
 "nbformat_minor": 2
}
